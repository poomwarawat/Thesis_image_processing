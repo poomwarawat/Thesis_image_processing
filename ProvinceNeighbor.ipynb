{
  "nbformat": 4,
  "nbformat_minor": 0,
  "metadata": {
    "colab": {
      "name": "ProvinceNeighbor",
      "provenance": [],
      "collapsed_sections": [],
      "machine_shape": "hm",
      "mount_file_id": "1boWFJyMDkoweDaMr5__VRQj_vei4Tthh",
      "authorship_tag": "ABX9TyODYAme9tW2LWV9d4ZdvJ4L",
      "include_colab_link": true
    },
    "kernelspec": {
      "name": "python3",
      "display_name": "Python 3"
    },
    "accelerator": "GPU"
  },
  "cells": [
    {
      "cell_type": "markdown",
      "metadata": {
        "id": "view-in-github",
        "colab_type": "text"
      },
      "source": [
        "<a href=\"https://colab.research.google.com/github/poomwarawat/Thesis_image_processing/blob/master/ProvinceNeighbor.ipynb\" target=\"_parent\"><img src=\"https://colab.research.google.com/assets/colab-badge.svg\" alt=\"Open In Colab\"/></a>"
      ]
    },
    {
      "cell_type": "code",
      "metadata": {
        "id": "NrvCL87V09tC"
      },
      "source": [
        "import os\n",
        "import numpy as np\n",
        "from keras.models import Sequential\n",
        "from keras.layers import Activation, Dropout, Flatten, Dense\n",
        "from keras.preprocessing.image import ImageDataGenerator\n",
        "from keras.layers import Convolution2D, MaxPooling2D, ZeroPadding2D\n",
        "from keras import optimizers\n",
        "from keras.callbacks import EarlyStopping\n",
        "from keras.applications.vgg16 import VGG16, preprocess_input\n",
        "from keras import layers\n",
        "from keras.optimizers import Adam, RMSprop\n",
        "from tqdm import tqdm\n",
        "import cv2\n",
        "from sklearn.metrics import accuracy_score, confusion_matrix\n",
        "import itertools"
      ],
      "execution_count": 27,
      "outputs": []
    },
    {
      "cell_type": "code",
      "metadata": {
        "id": "X4XTLLrv6Qwk"
      },
      "source": [
        "img_width, img_height = 128, 128"
      ],
      "execution_count": 2,
      "outputs": []
    },
    {
      "cell_type": "code",
      "metadata": {
        "id": "tyD7ZJ5C6ZZK"
      },
      "source": [
        "train_data_dir = \"/content/drive/My Drive/Thesis/data/test\"\n",
        "validation_data_dir = \"/content/drive/My Drive/Thesis/data/validation\""
      ],
      "execution_count": 3,
      "outputs": []
    },
    {
      "cell_type": "code",
      "metadata": {
        "id": "RIycjwg-UWuH"
      },
      "source": [
        "def load_data(dir_path, img_size=(128,128)):    \n",
        "    X = []\n",
        "    y = []\n",
        "    i = 0\n",
        "    labels = dict()\n",
        "    for path in tqdm(sorted(os.listdir(dir_path))):\n",
        "        if not path.startswith('.'):\n",
        "            labels[i] = path\n",
        "            for file in os.listdir(dir_path + path):                \n",
        "                if not file.startswith('.'):\n",
        "                    img = cv2.imread(dir_path + path + '/' + file)\n",
        "                    X.append(img)\n",
        "                    y.append(i)\n",
        "            i += 1\n",
        "    X = np.array(X)\n",
        "    y = np.array(y)    \n",
        "    return X, y, labels"
      ],
      "execution_count": 4,
      "outputs": []
    },
    {
      "cell_type": "code",
      "metadata": {
        "id": "jYx1CllAVYcz"
      },
      "source": [
        "def preprocess_imgs(set_name, img_size):\n",
        "    set_new = []\n",
        "    for img in set_name:\n",
        "        img = cv2.resize(\n",
        "            img,\n",
        "            dsize=img_size,\n",
        "            interpolation=cv2.INTER_CUBIC\n",
        "        )\n",
        "        set_new.append(preprocess_input(img))\n",
        "    return np.array(set_new)"
      ],
      "execution_count": 5,
      "outputs": []
    },
    {
      "cell_type": "code",
      "metadata": {
        "id": "cQBto10qT4Oh",
        "outputId": "6ce799f9-7924-4d08-9f52-f3d3ea591298",
        "colab": {
          "base_uri": "https://localhost:8080/",
          "height": 52
        }
      },
      "source": [
        "IMG_SIZE = (128, 128)\n",
        "X_train, y_train, labels = load_data(\"/content/drive/My Drive/Thesis/data/test/\", IMG_SIZE)\n",
        "X_train_prep = preprocess_imgs(set_name=X_train, img_size=IMG_SIZE)\n",
        "X_val, y_val, _ = load_data(\"/content/drive/My Drive/Thesis/data/validation/\", IMG_SIZE)\n",
        "X_val_prep = preprocess_imgs(set_name=X_val, img_size=IMG_SIZE)"
      ],
      "execution_count": 7,
      "outputs": [
        {
          "output_type": "stream",
          "text": [
            "100%|██████████| 2/2 [03:04<00:00, 92.38s/it]\n",
            "100%|██████████| 2/2 [01:26<00:00, 43.00s/it]\n"
          ],
          "name": "stderr"
        }
      ]
    },
    {
      "cell_type": "code",
      "metadata": {
        "id": "SS5saxQK70wN"
      },
      "source": [
        "datagen = ImageDataGenerator(rescale=1./255)"
      ],
      "execution_count": 8,
      "outputs": []
    },
    {
      "cell_type": "code",
      "metadata": {
        "id": "VP-ik7xWASG3",
        "outputId": "c30c4705-ad69-48d9-ba15-b6dc2d736dea",
        "colab": {
          "base_uri": "https://localhost:8080/",
          "height": 34
        }
      },
      "source": [
        "import os\n",
        "os.chdir(\"/content/drive/My Drive/Thesis/data/test\")\n",
        "!ls"
      ],
      "execution_count": 9,
      "outputs": [
        {
          "output_type": "stream",
          "text": [
            "no  yes\n"
          ],
          "name": "stdout"
        }
      ]
    },
    {
      "cell_type": "code",
      "metadata": {
        "id": "SjFwMk_hLn3w"
      },
      "source": [
        "RANDOM_SEED = 123"
      ],
      "execution_count": 10,
      "outputs": []
    },
    {
      "cell_type": "code",
      "metadata": {
        "id": "ngApheIK71S_",
        "outputId": "56213026-a616-479b-b60a-6a5d39738cb2",
        "colab": {
          "base_uri": "https://localhost:8080/",
          "height": 52
        }
      },
      "source": [
        "train_generator = datagen.flow_from_directory( # ตรงนี้จะสร้างออปเจ็คไว้เทรน\n",
        "        train_data_dir,\n",
        "        color_mode='rgb',\n",
        "        target_size=(img_width, img_height),\n",
        "        batch_size=32,\n",
        "        class_mode='binary',\n",
        "        seed=RANDOM_SEED\n",
        ")\n",
        "\n",
        "validation_generator = datagen.flow_from_directory( # ตรงนี้จะสร้างออปเจ็คไว้ validation\n",
        "        validation_data_dir,\n",
        "        color_mode='rgb',\n",
        "        target_size=(img_width, img_height),\n",
        "        batch_size=16,\n",
        "        class_mode='binary',\n",
        "        seed=RANDOM_SEED\n",
        ")"
      ],
      "execution_count": 11,
      "outputs": [
        {
          "output_type": "stream",
          "text": [
            "Found 250 images belonging to 2 classes.\n",
            "Found 125 images belonging to 2 classes.\n"
          ],
          "name": "stdout"
        }
      ]
    },
    {
      "cell_type": "code",
      "metadata": {
        "id": "E_duHVR7MoJ2"
      },
      "source": [
        "vgg_weight_path = \"/content/drive/My Drive/Thesis/data/base_model/vgg16_weights_tf_dim_ordering_tf_kernels_notop.h5\"\n",
        "base_model = VGG16(\n",
        "    weights=vgg_weight_path,\n",
        "    include_top=False, \n",
        "    input_shape=(128, 128) + (3,)\n",
        ")"
      ],
      "execution_count": 12,
      "outputs": []
    },
    {
      "cell_type": "code",
      "metadata": {
        "id": "MEXHBRSz9InJ",
        "outputId": "6b67b22f-af6e-4acb-c877-96381b98110f",
        "colab": {
          "base_uri": "https://localhost:8080/",
          "height": 295
        }
      },
      "source": [
        "model = Sequential()\n",
        "model.add(base_model)\n",
        "model.add(layers.Flatten())\n",
        "model.add(layers.Dropout(0.5))\n",
        "model.add(layers.Dense(1, activation='relu'))\n",
        "\n",
        "model.layers[0].trainable = False\n",
        "\n",
        "model.compile(\n",
        "    loss='binary_crossentropy',\n",
        "    optimizer=RMSprop(lr=1e-4),\n",
        "    metrics=['accuracy']\n",
        ")\n",
        "\n",
        "model.summary()"
      ],
      "execution_count": 13,
      "outputs": [
        {
          "output_type": "stream",
          "text": [
            "Model: \"sequential\"\n",
            "_________________________________________________________________\n",
            "Layer (type)                 Output Shape              Param #   \n",
            "=================================================================\n",
            "vgg16 (Functional)           (None, 4, 4, 512)         14714688  \n",
            "_________________________________________________________________\n",
            "flatten (Flatten)            (None, 8192)              0         \n",
            "_________________________________________________________________\n",
            "dropout (Dropout)            (None, 8192)              0         \n",
            "_________________________________________________________________\n",
            "dense (Dense)                (None, 1)                 8193      \n",
            "=================================================================\n",
            "Total params: 14,722,881\n",
            "Trainable params: 8,193\n",
            "Non-trainable params: 14,714,688\n",
            "_________________________________________________________________\n"
          ],
          "name": "stdout"
        }
      ]
    },
    {
      "cell_type": "code",
      "metadata": {
        "id": "_If8HNlK9OX9"
      },
      "source": [
        "model.compile(loss='binary_crossentropy',\n",
        "              optimizer='rmsprop',\n",
        "              metrics=['accuracy'])"
      ],
      "execution_count": 14,
      "outputs": []
    },
    {
      "cell_type": "code",
      "metadata": {
        "id": "Olrdcw3n9QTs"
      },
      "source": [
        "nb_epoch = 10 #จำนวน epoch คือรอบที่จะทำให้ Model วิวัฒฯ(ผมไม่รู้ว่าศัพท์ไทยเรียกว่าอะไรครับ)ขึ้นไปเรื่อง\n",
        "nb_train_samples = 250 #จำนวน sample ที่นำมาเทรน\n",
        "nb_validation_samples = 125 #จำนวน sample ที่นำมา validate\n",
        "BS = 32"
      ],
      "execution_count": 15,
      "outputs": []
    },
    {
      "cell_type": "code",
      "metadata": {
        "id": "eJY2LcttKspd"
      },
      "source": [
        "es = EarlyStopping(\n",
        "    monitor='val_acc', \n",
        "    mode='max',\n",
        "    patience=6\n",
        ")"
      ],
      "execution_count": 16,
      "outputs": []
    },
    {
      "cell_type": "code",
      "metadata": {
        "id": "wn9z-k3h9SmM",
        "outputId": "464ec23c-7a3e-4bb9-910f-81f6360917e7",
        "colab": {
          "base_uri": "https://localhost:8080/",
          "height": 1000
        }
      },
      "source": [
        "history =  model.fit_generator(\n",
        "    train_generator, \n",
        "    steps_per_epoch=int(nb_train_samples / BS), \n",
        "    epochs=100,\n",
        "    validation_data=validation_generator, \n",
        "    validation_steps=int(nb_validation_samples / BS),\n",
        "    callbacks=[es],\n",
        "    verbose= 1,\n",
        "    workers= 3,\n",
        "    max_queue_size= 8\n",
        ")\n"
      ],
      "execution_count": 20,
      "outputs": [
        {
          "output_type": "stream",
          "text": [
            "Epoch 1/100\n",
            "7/7 [==============================] - ETA: 0s - loss: 0.8492 - accuracy: 0.9174WARNING:tensorflow:Early stopping conditioned on metric `val_acc` which is not available. Available metrics are: loss,accuracy,val_loss,val_accuracy\n",
            "7/7 [==============================] - 1s 80ms/step - loss: 0.8492 - accuracy: 0.9174 - val_loss: 0.6553 - val_accuracy: 0.9375\n",
            "Epoch 2/100\n",
            "6/7 [========================>.....] - ETA: 0s - loss: 1.1106 - accuracy: 0.8763WARNING:tensorflow:Early stopping conditioned on metric `val_acc` which is not available. Available metrics are: loss,accuracy,val_loss,val_accuracy\n",
            "7/7 [==============================] - 1s 74ms/step - loss: 1.0966 - accuracy: 0.8807 - val_loss: 0.4381 - val_accuracy: 0.9167\n",
            "Epoch 3/100\n",
            "7/7 [==============================] - ETA: 0s - loss: 0.8616 - accuracy: 0.9037WARNING:tensorflow:Early stopping conditioned on metric `val_acc` which is not available. Available metrics are: loss,accuracy,val_loss,val_accuracy\n",
            "7/7 [==============================] - 1s 77ms/step - loss: 0.8616 - accuracy: 0.9037 - val_loss: 0.6498 - val_accuracy: 0.9583\n",
            "Epoch 4/100\n",
            "7/7 [==============================] - ETA: 0s - loss: 0.5730 - accuracy: 0.9174WARNING:tensorflow:Early stopping conditioned on metric `val_acc` which is not available. Available metrics are: loss,accuracy,val_loss,val_accuracy\n",
            "7/7 [==============================] - 1s 75ms/step - loss: 0.5730 - accuracy: 0.9174 - val_loss: 0.3268 - val_accuracy: 0.9792\n",
            "Epoch 5/100\n",
            "6/7 [========================>.....] - ETA: 0s - loss: 1.4589 - accuracy: 0.8646WARNING:tensorflow:Early stopping conditioned on metric `val_acc` which is not available. Available metrics are: loss,accuracy,val_loss,val_accuracy\n",
            "7/7 [==============================] - 1s 77ms/step - loss: 1.4390 - accuracy: 0.8624 - val_loss: 0.6826 - val_accuracy: 0.9167\n",
            "Epoch 6/100\n",
            "7/7 [==============================] - ETA: 0s - loss: 0.9624 - accuracy: 0.8945WARNING:tensorflow:Early stopping conditioned on metric `val_acc` which is not available. Available metrics are: loss,accuracy,val_loss,val_accuracy\n",
            "7/7 [==============================] - 1s 75ms/step - loss: 0.9624 - accuracy: 0.8945 - val_loss: 1.0196 - val_accuracy: 0.9167\n",
            "Epoch 7/100\n",
            "7/7 [==============================] - ETA: 0s - loss: 0.7867 - accuracy: 0.9128WARNING:tensorflow:Early stopping conditioned on metric `val_acc` which is not available. Available metrics are: loss,accuracy,val_loss,val_accuracy\n",
            "7/7 [==============================] - 1s 79ms/step - loss: 0.7867 - accuracy: 0.9128 - val_loss: 0.6740 - val_accuracy: 0.9583\n",
            "Epoch 8/100\n",
            "6/7 [========================>.....] - ETA: 0s - loss: 0.7077 - accuracy: 0.9247WARNING:tensorflow:Early stopping conditioned on metric `val_acc` which is not available. Available metrics are: loss,accuracy,val_loss,val_accuracy\n",
            "7/7 [==============================] - 0s 70ms/step - loss: 0.6769 - accuracy: 0.9312 - val_loss: 0.3858 - val_accuracy: 0.9583\n",
            "Epoch 9/100\n",
            "7/7 [==============================] - ETA: 0s - loss: 0.7641 - accuracy: 0.9266WARNING:tensorflow:Early stopping conditioned on metric `val_acc` which is not available. Available metrics are: loss,accuracy,val_loss,val_accuracy\n",
            "7/7 [==============================] - 1s 77ms/step - loss: 0.7641 - accuracy: 0.9266 - val_loss: 0.6530 - val_accuracy: 0.9583\n",
            "Epoch 10/100\n",
            "7/7 [==============================] - ETA: 0s - loss: 0.7827 - accuracy: 0.9128WARNING:tensorflow:Early stopping conditioned on metric `val_acc` which is not available. Available metrics are: loss,accuracy,val_loss,val_accuracy\n",
            "7/7 [==============================] - 1s 79ms/step - loss: 0.7827 - accuracy: 0.9128 - val_loss: 0.6586 - val_accuracy: 0.9375\n",
            "Epoch 11/100\n",
            "7/7 [==============================] - ETA: 0s - loss: 1.1815 - accuracy: 0.8716WARNING:tensorflow:Early stopping conditioned on metric `val_acc` which is not available. Available metrics are: loss,accuracy,val_loss,val_accuracy\n",
            "7/7 [==============================] - 1s 82ms/step - loss: 1.1815 - accuracy: 0.8716 - val_loss: 0.6562 - val_accuracy: 0.9583\n",
            "Epoch 12/100\n",
            "6/7 [========================>.....] - ETA: 0s - loss: 0.6589 - accuracy: 0.9140WARNING:tensorflow:Early stopping conditioned on metric `val_acc` which is not available. Available metrics are: loss,accuracy,val_loss,val_accuracy\n",
            "7/7 [==============================] - 1s 77ms/step - loss: 0.7147 - accuracy: 0.9083 - val_loss: 0.6455 - val_accuracy: 0.9583\n",
            "Epoch 13/100\n",
            "7/7 [==============================] - ETA: 0s - loss: 1.2380 - accuracy: 0.8716WARNING:tensorflow:Early stopping conditioned on metric `val_acc` which is not available. Available metrics are: loss,accuracy,val_loss,val_accuracy\n",
            "7/7 [==============================] - 1s 78ms/step - loss: 1.2380 - accuracy: 0.8716 - val_loss: 0.6831 - val_accuracy: 0.9167\n",
            "Epoch 14/100\n",
            "7/7 [==============================] - ETA: 0s - loss: 0.8231 - accuracy: 0.9312WARNING:tensorflow:Early stopping conditioned on metric `val_acc` which is not available. Available metrics are: loss,accuracy,val_loss,val_accuracy\n",
            "7/7 [==============================] - 1s 76ms/step - loss: 0.8231 - accuracy: 0.9312 - val_loss: 0.3839 - val_accuracy: 0.9583\n",
            "Epoch 15/100\n",
            "7/7 [==============================] - ETA: 0s - loss: 1.3229 - accuracy: 0.8532WARNING:tensorflow:Early stopping conditioned on metric `val_acc` which is not available. Available metrics are: loss,accuracy,val_loss,val_accuracy\n",
            "7/7 [==============================] - 1s 77ms/step - loss: 1.3229 - accuracy: 0.8532 - val_loss: 0.9681 - val_accuracy: 0.9375\n",
            "Epoch 16/100\n",
            "6/7 [========================>.....] - ETA: 0s - loss: 0.8104 - accuracy: 0.9086WARNING:tensorflow:Early stopping conditioned on metric `val_acc` which is not available. Available metrics are: loss,accuracy,val_loss,val_accuracy\n",
            "7/7 [==============================] - 1s 82ms/step - loss: 0.7687 - accuracy: 0.9174 - val_loss: 0.3465 - val_accuracy: 0.9583\n",
            "Epoch 17/100\n",
            "7/7 [==============================] - ETA: 0s - loss: 0.6144 - accuracy: 0.9312WARNING:tensorflow:Early stopping conditioned on metric `val_acc` which is not available. Available metrics are: loss,accuracy,val_loss,val_accuracy\n",
            "7/7 [==============================] - 1s 81ms/step - loss: 0.6144 - accuracy: 0.9312 - val_loss: 1.1091 - val_accuracy: 0.8958\n",
            "Epoch 18/100\n",
            "6/7 [========================>.....] - ETA: 0s - loss: 1.3914 - accuracy: 0.8763WARNING:tensorflow:Early stopping conditioned on metric `val_acc` which is not available. Available metrics are: loss,accuracy,val_loss,val_accuracy\n",
            "7/7 [==============================] - 1s 82ms/step - loss: 1.4019 - accuracy: 0.8761 - val_loss: 0.1462 - val_accuracy: 0.9583\n",
            "Epoch 19/100\n",
            "7/7 [==============================] - ETA: 0s - loss: 0.4031 - accuracy: 0.9541WARNING:tensorflow:Early stopping conditioned on metric `val_acc` which is not available. Available metrics are: loss,accuracy,val_loss,val_accuracy\n",
            "7/7 [==============================] - 1s 78ms/step - loss: 0.4031 - accuracy: 0.9541 - val_loss: 0.7103 - val_accuracy: 0.9167\n",
            "Epoch 20/100\n",
            "7/7 [==============================] - ETA: 0s - loss: 0.7144 - accuracy: 0.9220WARNING:tensorflow:Early stopping conditioned on metric `val_acc` which is not available. Available metrics are: loss,accuracy,val_loss,val_accuracy\n",
            "7/7 [==============================] - 1s 78ms/step - loss: 0.7144 - accuracy: 0.9220 - val_loss: 0.6970 - val_accuracy: 0.9167\n",
            "Epoch 21/100\n",
            "7/7 [==============================] - ETA: 0s - loss: 0.6078 - accuracy: 0.9358WARNING:tensorflow:Early stopping conditioned on metric `val_acc` which is not available. Available metrics are: loss,accuracy,val_loss,val_accuracy\n",
            "7/7 [==============================] - 1s 78ms/step - loss: 0.6078 - accuracy: 0.9358 - val_loss: 0.3653 - val_accuracy: 0.9583\n",
            "Epoch 22/100\n",
            "7/7 [==============================] - ETA: 0s - loss: 0.7262 - accuracy: 0.9037WARNING:tensorflow:Early stopping conditioned on metric `val_acc` which is not available. Available metrics are: loss,accuracy,val_loss,val_accuracy\n",
            "7/7 [==============================] - 1s 75ms/step - loss: 0.7262 - accuracy: 0.9037 - val_loss: 1.0090 - val_accuracy: 0.9167\n",
            "Epoch 23/100\n",
            "6/7 [========================>.....] - ETA: 0s - loss: 0.6023 - accuracy: 0.9375WARNING:tensorflow:Early stopping conditioned on metric `val_acc` which is not available. Available metrics are: loss,accuracy,val_loss,val_accuracy\n",
            "7/7 [==============================] - 1s 81ms/step - loss: 0.5910 - accuracy: 0.9420 - val_loss: 0.6994 - val_accuracy: 0.9167\n",
            "Epoch 24/100\n",
            "7/7 [==============================] - ETA: 0s - loss: 0.4001 - accuracy: 0.9495WARNING:tensorflow:Early stopping conditioned on metric `val_acc` which is not available. Available metrics are: loss,accuracy,val_loss,val_accuracy\n",
            "7/7 [==============================] - 0s 71ms/step - loss: 0.4001 - accuracy: 0.9495 - val_loss: 0.0473 - val_accuracy: 0.9792\n",
            "Epoch 25/100\n",
            "6/7 [========================>.....] - ETA: 0s - loss: 0.8159 - accuracy: 0.9194WARNING:tensorflow:Early stopping conditioned on metric `val_acc` which is not available. Available metrics are: loss,accuracy,val_loss,val_accuracy\n",
            "7/7 [==============================] - 1s 78ms/step - loss: 0.8411 - accuracy: 0.9220 - val_loss: 0.7061 - val_accuracy: 0.9375\n",
            "Epoch 26/100\n",
            "7/7 [==============================] - ETA: 0s - loss: 0.9277 - accuracy: 0.9083WARNING:tensorflow:Early stopping conditioned on metric `val_acc` which is not available. Available metrics are: loss,accuracy,val_loss,val_accuracy\n",
            "7/7 [==============================] - 1s 78ms/step - loss: 0.9277 - accuracy: 0.9083 - val_loss: 0.3573 - val_accuracy: 0.9583\n",
            "Epoch 27/100\n",
            "7/7 [==============================] - ETA: 0s - loss: 1.2101 - accuracy: 0.8705WARNING:tensorflow:Early stopping conditioned on metric `val_acc` which is not available. Available metrics are: loss,accuracy,val_loss,val_accuracy\n",
            "7/7 [==============================] - 1s 84ms/step - loss: 1.2101 - accuracy: 0.8705 - val_loss: 0.0569 - val_accuracy: 0.9583\n",
            "Epoch 28/100\n",
            "6/7 [========================>.....] - ETA: 0s - loss: 0.2680 - accuracy: 0.9740WARNING:tensorflow:Early stopping conditioned on metric `val_acc` which is not available. Available metrics are: loss,accuracy,val_loss,val_accuracy\n",
            "7/7 [==============================] - 1s 80ms/step - loss: 0.3767 - accuracy: 0.9679 - val_loss: 0.6467 - val_accuracy: 0.9583\n",
            "Epoch 29/100\n",
            "7/7 [==============================] - ETA: 0s - loss: 0.7759 - accuracy: 0.9266WARNING:tensorflow:Early stopping conditioned on metric `val_acc` which is not available. Available metrics are: loss,accuracy,val_loss,val_accuracy\n",
            "7/7 [==============================] - 1s 84ms/step - loss: 0.7759 - accuracy: 0.9266 - val_loss: 0.7881 - val_accuracy: 0.8958\n",
            "Epoch 30/100\n",
            "7/7 [==============================] - ETA: 0s - loss: 0.7579 - accuracy: 0.9312WARNING:tensorflow:Early stopping conditioned on metric `val_acc` which is not available. Available metrics are: loss,accuracy,val_loss,val_accuracy\n",
            "7/7 [==============================] - 1s 80ms/step - loss: 0.7579 - accuracy: 0.9312 - val_loss: 0.0087 - val_accuracy: 1.0000\n",
            "Epoch 31/100\n",
            "7/7 [==============================] - ETA: 0s - loss: 0.3993 - accuracy: 0.9450WARNING:tensorflow:Early stopping conditioned on metric `val_acc` which is not available. Available metrics are: loss,accuracy,val_loss,val_accuracy\n",
            "7/7 [==============================] - 1s 81ms/step - loss: 0.3993 - accuracy: 0.9450 - val_loss: 0.3652 - val_accuracy: 0.9583\n",
            "Epoch 32/100\n",
            "6/7 [========================>.....] - ETA: 0s - loss: 0.5343 - accuracy: 0.9516WARNING:tensorflow:Early stopping conditioned on metric `val_acc` which is not available. Available metrics are: loss,accuracy,val_loss,val_accuracy\n",
            "7/7 [==============================] - 1s 73ms/step - loss: 0.5288 - accuracy: 0.9541 - val_loss: 0.0098 - val_accuracy: 1.0000\n",
            "Epoch 33/100\n",
            "7/7 [==============================] - ETA: 0s - loss: 0.4636 - accuracy: 0.9495WARNING:tensorflow:Early stopping conditioned on metric `val_acc` which is not available. Available metrics are: loss,accuracy,val_loss,val_accuracy\n",
            "7/7 [==============================] - 1s 78ms/step - loss: 0.4636 - accuracy: 0.9495 - val_loss: 1.0785 - val_accuracy: 0.8958\n",
            "Epoch 34/100\n",
            "5/7 [====================>.........] - ETA: 0s - loss: 0.8383 - accuracy: 0.9062WARNING:tensorflow:Early stopping conditioned on metric `val_acc` which is not available. Available metrics are: loss,accuracy,val_loss,val_accuracy\n",
            "7/7 [==============================] - 1s 78ms/step - loss: 0.6311 - accuracy: 0.9266 - val_loss: 0.6725 - val_accuracy: 0.9583\n",
            "Epoch 35/100\n",
            "6/7 [========================>.....] - ETA: 0s - loss: 0.7404 - accuracy: 0.9062WARNING:tensorflow:Early stopping conditioned on metric `val_acc` which is not available. Available metrics are: loss,accuracy,val_loss,val_accuracy\n",
            "7/7 [==============================] - 1s 72ms/step - loss: 0.8417 - accuracy: 0.9062 - val_loss: 0.6955 - val_accuracy: 0.9167\n",
            "Epoch 36/100\n",
            "7/7 [==============================] - ETA: 0s - loss: 0.3276 - accuracy: 0.9633WARNING:tensorflow:Early stopping conditioned on metric `val_acc` which is not available. Available metrics are: loss,accuracy,val_loss,val_accuracy\n",
            "7/7 [==============================] - 1s 76ms/step - loss: 0.3276 - accuracy: 0.9633 - val_loss: 0.0895 - val_accuracy: 0.9583\n",
            "Epoch 37/100\n",
            "6/7 [========================>.....] - ETA: 0s - loss: 1.1247 - accuracy: 0.8978WARNING:tensorflow:Early stopping conditioned on metric `val_acc` which is not available. Available metrics are: loss,accuracy,val_loss,val_accuracy\n",
            "7/7 [==============================] - 1s 79ms/step - loss: 0.9705 - accuracy: 0.9083 - val_loss: 0.0297 - val_accuracy: 0.9792\n",
            "Epoch 38/100\n",
            "7/7 [==============================] - ETA: 0s - loss: 0.3147 - accuracy: 0.9633WARNING:tensorflow:Early stopping conditioned on metric `val_acc` which is not available. Available metrics are: loss,accuracy,val_loss,val_accuracy\n",
            "7/7 [==============================] - 1s 76ms/step - loss: 0.3147 - accuracy: 0.9633 - val_loss: 0.0314 - val_accuracy: 0.9792\n",
            "Epoch 39/100\n",
            "7/7 [==============================] - ETA: 0s - loss: 0.4603 - accuracy: 0.9541WARNING:tensorflow:Early stopping conditioned on metric `val_acc` which is not available. Available metrics are: loss,accuracy,val_loss,val_accuracy\n",
            "7/7 [==============================] - 1s 79ms/step - loss: 0.4603 - accuracy: 0.9541 - val_loss: 0.0313 - val_accuracy: 0.9792\n",
            "Epoch 40/100\n",
            "7/7 [==============================] - ETA: 0s - loss: 0.2586 - accuracy: 0.9633WARNING:tensorflow:Early stopping conditioned on metric `val_acc` which is not available. Available metrics are: loss,accuracy,val_loss,val_accuracy\n",
            "7/7 [==============================] - 1s 82ms/step - loss: 0.2586 - accuracy: 0.9633 - val_loss: 0.0023 - val_accuracy: 1.0000\n",
            "Epoch 41/100\n",
            "7/7 [==============================] - ETA: 0s - loss: 0.3868 - accuracy: 0.9633WARNING:tensorflow:Early stopping conditioned on metric `val_acc` which is not available. Available metrics are: loss,accuracy,val_loss,val_accuracy\n",
            "7/7 [==============================] - 1s 91ms/step - loss: 0.3868 - accuracy: 0.9633 - val_loss: 0.6354 - val_accuracy: 0.9583\n",
            "Epoch 42/100\n",
            "7/7 [==============================] - ETA: 0s - loss: 0.1857 - accuracy: 0.9633WARNING:tensorflow:Early stopping conditioned on metric `val_acc` which is not available. Available metrics are: loss,accuracy,val_loss,val_accuracy\n",
            "7/7 [==============================] - 1s 93ms/step - loss: 0.1857 - accuracy: 0.9633 - val_loss: 0.3356 - val_accuracy: 0.9792\n",
            "Epoch 43/100\n",
            "7/7 [==============================] - ETA: 0s - loss: 0.3162 - accuracy: 0.9541WARNING:tensorflow:Early stopping conditioned on metric `val_acc` which is not available. Available metrics are: loss,accuracy,val_loss,val_accuracy\n",
            "7/7 [==============================] - 1s 88ms/step - loss: 0.3162 - accuracy: 0.9541 - val_loss: 0.6821 - val_accuracy: 0.9375\n",
            "Epoch 44/100\n",
            "7/7 [==============================] - ETA: 0s - loss: 0.4400 - accuracy: 0.9587WARNING:tensorflow:Early stopping conditioned on metric `val_acc` which is not available. Available metrics are: loss,accuracy,val_loss,val_accuracy\n",
            "7/7 [==============================] - 1s 93ms/step - loss: 0.4400 - accuracy: 0.9587 - val_loss: 0.3428 - val_accuracy: 0.9583\n",
            "Epoch 45/100\n",
            "7/7 [==============================] - ETA: 0s - loss: 0.4032 - accuracy: 0.9587WARNING:tensorflow:Early stopping conditioned on metric `val_acc` which is not available. Available metrics are: loss,accuracy,val_loss,val_accuracy\n",
            "7/7 [==============================] - 1s 85ms/step - loss: 0.4032 - accuracy: 0.9587 - val_loss: 0.0644 - val_accuracy: 0.9583\n",
            "Epoch 46/100\n",
            "7/7 [==============================] - ETA: 0s - loss: 0.4466 - accuracy: 0.9541WARNING:tensorflow:Early stopping conditioned on metric `val_acc` which is not available. Available metrics are: loss,accuracy,val_loss,val_accuracy\n",
            "7/7 [==============================] - 1s 91ms/step - loss: 0.4466 - accuracy: 0.9541 - val_loss: 0.6354 - val_accuracy: 0.9583\n",
            "Epoch 47/100\n",
            "7/7 [==============================] - ETA: 0s - loss: 0.4711 - accuracy: 0.9541WARNING:tensorflow:Early stopping conditioned on metric `val_acc` which is not available. Available metrics are: loss,accuracy,val_loss,val_accuracy\n",
            "7/7 [==============================] - 1s 86ms/step - loss: 0.4711 - accuracy: 0.9541 - val_loss: 2.6363 - val_accuracy: 0.7708\n",
            "Epoch 48/100\n",
            "7/7 [==============================] - ETA: 0s - loss: 0.8791 - accuracy: 0.9220WARNING:tensorflow:Early stopping conditioned on metric `val_acc` which is not available. Available metrics are: loss,accuracy,val_loss,val_accuracy\n",
            "7/7 [==============================] - 1s 95ms/step - loss: 0.8791 - accuracy: 0.9220 - val_loss: 0.3361 - val_accuracy: 0.9792\n",
            "Epoch 49/100\n",
            "7/7 [==============================] - ETA: 0s - loss: 0.3071 - accuracy: 0.9679WARNING:tensorflow:Early stopping conditioned on metric `val_acc` which is not available. Available metrics are: loss,accuracy,val_loss,val_accuracy\n",
            "7/7 [==============================] - 1s 82ms/step - loss: 0.3071 - accuracy: 0.9679 - val_loss: 0.3314 - val_accuracy: 0.9792\n",
            "Epoch 50/100\n",
            "7/7 [==============================] - ETA: 0s - loss: 0.2430 - accuracy: 0.9679WARNING:tensorflow:Early stopping conditioned on metric `val_acc` which is not available. Available metrics are: loss,accuracy,val_loss,val_accuracy\n",
            "7/7 [==============================] - 1s 88ms/step - loss: 0.2430 - accuracy: 0.9679 - val_loss: 0.6402 - val_accuracy: 0.9583\n",
            "Epoch 51/100\n",
            "7/7 [==============================] - ETA: 0s - loss: 0.3885 - accuracy: 0.9541WARNING:tensorflow:Early stopping conditioned on metric `val_acc` which is not available. Available metrics are: loss,accuracy,val_loss,val_accuracy\n",
            "7/7 [==============================] - 1s 82ms/step - loss: 0.3885 - accuracy: 0.9541 - val_loss: 0.0405 - val_accuracy: 0.9792\n",
            "Epoch 52/100\n",
            "7/7 [==============================] - ETA: 0s - loss: 1.1312 - accuracy: 0.8839WARNING:tensorflow:Early stopping conditioned on metric `val_acc` which is not available. Available metrics are: loss,accuracy,val_loss,val_accuracy\n",
            "7/7 [==============================] - 1s 83ms/step - loss: 1.1312 - accuracy: 0.8839 - val_loss: 0.3594 - val_accuracy: 0.9583\n",
            "Epoch 53/100\n",
            "7/7 [==============================] - ETA: 0s - loss: 0.5989 - accuracy: 0.9404WARNING:tensorflow:Early stopping conditioned on metric `val_acc` which is not available. Available metrics are: loss,accuracy,val_loss,val_accuracy\n",
            "7/7 [==============================] - 0s 70ms/step - loss: 0.5989 - accuracy: 0.9404 - val_loss: 0.3338 - val_accuracy: 0.9792\n",
            "Epoch 54/100\n",
            "7/7 [==============================] - ETA: 0s - loss: 0.4073 - accuracy: 0.9541WARNING:tensorflow:Early stopping conditioned on metric `val_acc` which is not available. Available metrics are: loss,accuracy,val_loss,val_accuracy\n",
            "7/7 [==============================] - 1s 80ms/step - loss: 0.4073 - accuracy: 0.9541 - val_loss: 0.3344 - val_accuracy: 0.9792\n",
            "Epoch 55/100\n",
            "7/7 [==============================] - ETA: 0s - loss: 0.2320 - accuracy: 0.9688WARNING:tensorflow:Early stopping conditioned on metric `val_acc` which is not available. Available metrics are: loss,accuracy,val_loss,val_accuracy\n",
            "7/7 [==============================] - 1s 75ms/step - loss: 0.2320 - accuracy: 0.9688 - val_loss: 0.0809 - val_accuracy: 0.9792\n",
            "Epoch 56/100\n",
            "7/7 [==============================] - ETA: 0s - loss: 0.4630 - accuracy: 0.9587WARNING:tensorflow:Early stopping conditioned on metric `val_acc` which is not available. Available metrics are: loss,accuracy,val_loss,val_accuracy\n",
            "7/7 [==============================] - 1s 82ms/step - loss: 0.4630 - accuracy: 0.9587 - val_loss: 0.3177 - val_accuracy: 0.9792\n",
            "Epoch 57/100\n",
            "6/7 [========================>.....] - ETA: 0s - loss: 0.4014 - accuracy: 0.9462WARNING:tensorflow:Early stopping conditioned on metric `val_acc` which is not available. Available metrics are: loss,accuracy,val_loss,val_accuracy\n",
            "7/7 [==============================] - 1s 75ms/step - loss: 0.3515 - accuracy: 0.9450 - val_loss: 0.0108 - val_accuracy: 1.0000\n",
            "Epoch 58/100\n",
            "6/7 [========================>.....] - ETA: 0s - loss: 0.4191 - accuracy: 0.9635WARNING:tensorflow:Early stopping conditioned on metric `val_acc` which is not available. Available metrics are: loss,accuracy,val_loss,val_accuracy\n",
            "7/7 [==============================] - 1s 76ms/step - loss: 0.3709 - accuracy: 0.9643 - val_loss: 0.0731 - val_accuracy: 0.9375\n",
            "Epoch 59/100\n",
            "6/7 [========================>.....] - ETA: 0s - loss: 0.1928 - accuracy: 0.9677WARNING:tensorflow:Early stopping conditioned on metric `val_acc` which is not available. Available metrics are: loss,accuracy,val_loss,val_accuracy\n",
            "7/7 [==============================] - 1s 74ms/step - loss: 0.1770 - accuracy: 0.9633 - val_loss: 0.3853 - val_accuracy: 0.9375\n",
            "Epoch 60/100\n",
            "7/7 [==============================] - ETA: 0s - loss: 0.4904 - accuracy: 0.9312WARNING:tensorflow:Early stopping conditioned on metric `val_acc` which is not available. Available metrics are: loss,accuracy,val_loss,val_accuracy\n",
            "7/7 [==============================] - 1s 89ms/step - loss: 0.4904 - accuracy: 0.9312 - val_loss: 0.0145 - val_accuracy: 1.0000\n",
            "Epoch 61/100\n",
            "7/7 [==============================] - ETA: 0s - loss: 0.7473 - accuracy: 0.9404WARNING:tensorflow:Early stopping conditioned on metric `val_acc` which is not available. Available metrics are: loss,accuracy,val_loss,val_accuracy\n",
            "7/7 [==============================] - 1s 81ms/step - loss: 0.7473 - accuracy: 0.9404 - val_loss: 0.0467 - val_accuracy: 0.9792\n",
            "Epoch 62/100\n",
            "7/7 [==============================] - ETA: 0s - loss: 0.3355 - accuracy: 0.9679WARNING:tensorflow:Early stopping conditioned on metric `val_acc` which is not available. Available metrics are: loss,accuracy,val_loss,val_accuracy\n",
            "7/7 [==============================] - 1s 79ms/step - loss: 0.3355 - accuracy: 0.9679 - val_loss: 0.0000e+00 - val_accuracy: 1.0000\n",
            "Epoch 63/100\n",
            "7/7 [==============================] - ETA: 0s - loss: 0.2509 - accuracy: 0.9587WARNING:tensorflow:Early stopping conditioned on metric `val_acc` which is not available. Available metrics are: loss,accuracy,val_loss,val_accuracy\n",
            "7/7 [==============================] - 0s 71ms/step - loss: 0.2509 - accuracy: 0.9587 - val_loss: 0.3177 - val_accuracy: 0.9792\n",
            "Epoch 64/100\n",
            "7/7 [==============================] - ETA: 0s - loss: 0.5410 - accuracy: 0.9404WARNING:tensorflow:Early stopping conditioned on metric `val_acc` which is not available. Available metrics are: loss,accuracy,val_loss,val_accuracy\n",
            "7/7 [==============================] - 1s 80ms/step - loss: 0.5410 - accuracy: 0.9404 - val_loss: 0.3177 - val_accuracy: 0.9792\n",
            "Epoch 65/100\n",
            "7/7 [==============================] - ETA: 0s - loss: 0.6693 - accuracy: 0.9358WARNING:tensorflow:Early stopping conditioned on metric `val_acc` which is not available. Available metrics are: loss,accuracy,val_loss,val_accuracy\n",
            "7/7 [==============================] - 1s 76ms/step - loss: 0.6693 - accuracy: 0.9358 - val_loss: 0.3272 - val_accuracy: 0.9792\n",
            "Epoch 66/100\n",
            "7/7 [==============================] - ETA: 0s - loss: 0.7097 - accuracy: 0.9266WARNING:tensorflow:Early stopping conditioned on metric `val_acc` which is not available. Available metrics are: loss,accuracy,val_loss,val_accuracy\n",
            "7/7 [==============================] - 1s 80ms/step - loss: 0.7097 - accuracy: 0.9266 - val_loss: 0.6519 - val_accuracy: 0.9375\n",
            "Epoch 67/100\n",
            "7/7 [==============================] - ETA: 0s - loss: 0.4475 - accuracy: 0.9509WARNING:tensorflow:Early stopping conditioned on metric `val_acc` which is not available. Available metrics are: loss,accuracy,val_loss,val_accuracy\n",
            "7/7 [==============================] - 1s 75ms/step - loss: 0.4475 - accuracy: 0.9509 - val_loss: 0.0134 - val_accuracy: 1.0000\n",
            "Epoch 68/100\n",
            "7/7 [==============================] - ETA: 0s - loss: 0.3193 - accuracy: 0.9633WARNING:tensorflow:Early stopping conditioned on metric `val_acc` which is not available. Available metrics are: loss,accuracy,val_loss,val_accuracy\n",
            "7/7 [==============================] - 1s 84ms/step - loss: 0.3193 - accuracy: 0.9633 - val_loss: 0.0149 - val_accuracy: 0.9792\n",
            "Epoch 69/100\n",
            "6/7 [========================>.....] - ETA: 0s - loss: 0.1906 - accuracy: 0.9785WARNING:tensorflow:Early stopping conditioned on metric `val_acc` which is not available. Available metrics are: loss,accuracy,val_loss,val_accuracy\n",
            "7/7 [==============================] - 1s 75ms/step - loss: 0.2334 - accuracy: 0.9771 - val_loss: 0.3301 - val_accuracy: 0.9792\n",
            "Epoch 70/100\n",
            "7/7 [==============================] - ETA: 0s - loss: 0.4987 - accuracy: 0.9679WARNING:tensorflow:Early stopping conditioned on metric `val_acc` which is not available. Available metrics are: loss,accuracy,val_loss,val_accuracy\n",
            "7/7 [==============================] - 1s 77ms/step - loss: 0.4987 - accuracy: 0.9679 - val_loss: 0.3238 - val_accuracy: 0.9792\n",
            "Epoch 71/100\n",
            "7/7 [==============================] - ETA: 0s - loss: 0.3120 - accuracy: 0.9679WARNING:tensorflow:Early stopping conditioned on metric `val_acc` which is not available. Available metrics are: loss,accuracy,val_loss,val_accuracy\n",
            "7/7 [==============================] - 1s 76ms/step - loss: 0.3120 - accuracy: 0.9679 - val_loss: 0.0506 - val_accuracy: 0.9583\n",
            "Epoch 72/100\n",
            "7/7 [==============================] - ETA: 0s - loss: 0.2521 - accuracy: 0.9688WARNING:tensorflow:Early stopping conditioned on metric `val_acc` which is not available. Available metrics are: loss,accuracy,val_loss,val_accuracy\n",
            "7/7 [==============================] - 1s 76ms/step - loss: 0.2521 - accuracy: 0.9688 - val_loss: 0.3406 - val_accuracy: 0.9583\n",
            "Epoch 73/100\n",
            "7/7 [==============================] - ETA: 0s - loss: 0.3826 - accuracy: 0.9598WARNING:tensorflow:Early stopping conditioned on metric `val_acc` which is not available. Available metrics are: loss,accuracy,val_loss,val_accuracy\n",
            "7/7 [==============================] - 1s 77ms/step - loss: 0.3826 - accuracy: 0.9598 - val_loss: 0.3177 - val_accuracy: 0.9792\n",
            "Epoch 74/100\n",
            "7/7 [==============================] - ETA: 0s - loss: 0.1511 - accuracy: 0.9862WARNING:tensorflow:Early stopping conditioned on metric `val_acc` which is not available. Available metrics are: loss,accuracy,val_loss,val_accuracy\n",
            "7/7 [==============================] - 1s 72ms/step - loss: 0.1511 - accuracy: 0.9862 - val_loss: 0.0000e+00 - val_accuracy: 1.0000\n",
            "Epoch 75/100\n",
            "6/7 [========================>.....] - ETA: 0s - loss: 0.3154 - accuracy: 0.9516WARNING:tensorflow:Early stopping conditioned on metric `val_acc` which is not available. Available metrics are: loss,accuracy,val_loss,val_accuracy\n",
            "7/7 [==============================] - 1s 79ms/step - loss: 0.3565 - accuracy: 0.9450 - val_loss: 0.0231 - val_accuracy: 1.0000\n",
            "Epoch 76/100\n",
            "7/7 [==============================] - ETA: 0s - loss: 0.4739 - accuracy: 0.9404WARNING:tensorflow:Early stopping conditioned on metric `val_acc` which is not available. Available metrics are: loss,accuracy,val_loss,val_accuracy\n",
            "7/7 [==============================] - 1s 75ms/step - loss: 0.4739 - accuracy: 0.9404 - val_loss: 0.3231 - val_accuracy: 0.9792\n",
            "Epoch 77/100\n",
            "7/7 [==============================] - ETA: 0s - loss: 0.1752 - accuracy: 0.9679WARNING:tensorflow:Early stopping conditioned on metric `val_acc` which is not available. Available metrics are: loss,accuracy,val_loss,val_accuracy\n",
            "7/7 [==============================] - 1s 81ms/step - loss: 0.1752 - accuracy: 0.9679 - val_loss: 0.0000e+00 - val_accuracy: 1.0000\n",
            "Epoch 78/100\n",
            "7/7 [==============================] - ETA: 0s - loss: 0.2124 - accuracy: 0.9862WARNING:tensorflow:Early stopping conditioned on metric `val_acc` which is not available. Available metrics are: loss,accuracy,val_loss,val_accuracy\n",
            "7/7 [==============================] - 1s 85ms/step - loss: 0.2124 - accuracy: 0.9862 - val_loss: 0.3228 - val_accuracy: 0.9792\n",
            "Epoch 79/100\n",
            "5/7 [====================>.........] - ETA: 0s - loss: 0.0126 - accuracy: 0.9937WARNING:tensorflow:Early stopping conditioned on metric `val_acc` which is not available. Available metrics are: loss,accuracy,val_loss,val_accuracy\n",
            "7/7 [==============================] - 1s 81ms/step - loss: 0.0848 - accuracy: 0.9908 - val_loss: 0.3177 - val_accuracy: 0.9792\n",
            "Epoch 80/100\n",
            "7/7 [==============================] - ETA: 0s - loss: 0.6019 - accuracy: 0.9358WARNING:tensorflow:Early stopping conditioned on metric `val_acc` which is not available. Available metrics are: loss,accuracy,val_loss,val_accuracy\n",
            "7/7 [==============================] - 1s 78ms/step - loss: 0.6019 - accuracy: 0.9358 - val_loss: 0.3556 - val_accuracy: 0.9583\n",
            "Epoch 81/100\n",
            "7/7 [==============================] - ETA: 0s - loss: 0.1720 - accuracy: 0.9633WARNING:tensorflow:Early stopping conditioned on metric `val_acc` which is not available. Available metrics are: loss,accuracy,val_loss,val_accuracy\n",
            "7/7 [==============================] - 1s 79ms/step - loss: 0.1720 - accuracy: 0.9633 - val_loss: 0.3252 - val_accuracy: 0.9792\n",
            "Epoch 82/100\n",
            "6/7 [========================>.....] - ETA: 0s - loss: 0.3477 - accuracy: 0.9677WARNING:tensorflow:Early stopping conditioned on metric `val_acc` which is not available. Available metrics are: loss,accuracy,val_loss,val_accuracy\n",
            "7/7 [==============================] - 1s 75ms/step - loss: 0.3057 - accuracy: 0.9679 - val_loss: 0.0393 - val_accuracy: 0.9792\n",
            "Epoch 83/100\n",
            "7/7 [==============================] - ETA: 0s - loss: 0.5650 - accuracy: 0.9312WARNING:tensorflow:Early stopping conditioned on metric `val_acc` which is not available. Available metrics are: loss,accuracy,val_loss,val_accuracy\n",
            "7/7 [==============================] - 1s 78ms/step - loss: 0.5650 - accuracy: 0.9312 - val_loss: 0.0000e+00 - val_accuracy: 1.0000\n",
            "Epoch 84/100\n",
            "6/7 [========================>.....] - ETA: 0s - loss: 0.1068 - accuracy: 0.9892WARNING:tensorflow:Early stopping conditioned on metric `val_acc` which is not available. Available metrics are: loss,accuracy,val_loss,val_accuracy\n",
            "7/7 [==============================] - 1s 73ms/step - loss: 0.1094 - accuracy: 0.9862 - val_loss: 0.3649 - val_accuracy: 0.9583\n",
            "Epoch 85/100\n",
            "7/7 [==============================] - ETA: 0s - loss: 0.4414 - accuracy: 0.9633WARNING:tensorflow:Early stopping conditioned on metric `val_acc` which is not available. Available metrics are: loss,accuracy,val_loss,val_accuracy\n",
            "7/7 [==============================] - 0s 58ms/step - loss: 0.4414 - accuracy: 0.9633 - val_loss: 0.0039 - val_accuracy: 1.0000\n",
            "Epoch 86/100\n",
            "7/7 [==============================] - ETA: 0s - loss: 0.2537 - accuracy: 0.9633WARNING:tensorflow:Early stopping conditioned on metric `val_acc` which is not available. Available metrics are: loss,accuracy,val_loss,val_accuracy\n",
            "7/7 [==============================] - 1s 78ms/step - loss: 0.2537 - accuracy: 0.9633 - val_loss: 0.3177 - val_accuracy: 0.9792\n",
            "Epoch 87/100\n",
            "7/7 [==============================] - ETA: 0s - loss: 0.3027 - accuracy: 0.9771WARNING:tensorflow:Early stopping conditioned on metric `val_acc` which is not available. Available metrics are: loss,accuracy,val_loss,val_accuracy\n",
            "7/7 [==============================] - 1s 77ms/step - loss: 0.3027 - accuracy: 0.9771 - val_loss: 0.0000e+00 - val_accuracy: 1.0000\n",
            "Epoch 88/100\n",
            "7/7 [==============================] - ETA: 0s - loss: 0.1844 - accuracy: 0.9587WARNING:tensorflow:Early stopping conditioned on metric `val_acc` which is not available. Available metrics are: loss,accuracy,val_loss,val_accuracy\n",
            "7/7 [==============================] - 1s 77ms/step - loss: 0.1844 - accuracy: 0.9587 - val_loss: 0.0132 - val_accuracy: 1.0000\n",
            "Epoch 89/100\n",
            "7/7 [==============================] - ETA: 0s - loss: 0.1633 - accuracy: 0.9771WARNING:tensorflow:Early stopping conditioned on metric `val_acc` which is not available. Available metrics are: loss,accuracy,val_loss,val_accuracy\n",
            "7/7 [==============================] - 1s 71ms/step - loss: 0.1633 - accuracy: 0.9771 - val_loss: 0.0858 - val_accuracy: 0.9583\n",
            "Epoch 90/100\n",
            "7/7 [==============================] - ETA: 0s - loss: 0.2781 - accuracy: 0.9358WARNING:tensorflow:Early stopping conditioned on metric `val_acc` which is not available. Available metrics are: loss,accuracy,val_loss,val_accuracy\n",
            "7/7 [==============================] - 0s 68ms/step - loss: 0.2781 - accuracy: 0.9358 - val_loss: 0.0172 - val_accuracy: 1.0000\n",
            "Epoch 91/100\n",
            "7/7 [==============================] - ETA: 0s - loss: 0.2293 - accuracy: 0.9732WARNING:tensorflow:Early stopping conditioned on metric `val_acc` which is not available. Available metrics are: loss,accuracy,val_loss,val_accuracy\n",
            "7/7 [==============================] - 1s 80ms/step - loss: 0.2293 - accuracy: 0.9732 - val_loss: 0.0022 - val_accuracy: 1.0000\n",
            "Epoch 92/100\n",
            "7/7 [==============================] - ETA: 0s - loss: 0.3051 - accuracy: 0.9725WARNING:tensorflow:Early stopping conditioned on metric `val_acc` which is not available. Available metrics are: loss,accuracy,val_loss,val_accuracy\n",
            "7/7 [==============================] - 1s 79ms/step - loss: 0.3051 - accuracy: 0.9725 - val_loss: 0.0057 - val_accuracy: 1.0000\n",
            "Epoch 93/100\n",
            "6/7 [========================>.....] - ETA: 0s - loss: 0.1932 - accuracy: 0.9740WARNING:tensorflow:Early stopping conditioned on metric `val_acc` which is not available. Available metrics are: loss,accuracy,val_loss,val_accuracy\n",
            "7/7 [==============================] - 1s 78ms/step - loss: 0.2357 - accuracy: 0.9732 - val_loss: 0.0584 - val_accuracy: 0.9792\n",
            "Epoch 94/100\n",
            "7/7 [==============================] - ETA: 0s - loss: 0.3433 - accuracy: 0.9541WARNING:tensorflow:Early stopping conditioned on metric `val_acc` which is not available. Available metrics are: loss,accuracy,val_loss,val_accuracy\n",
            "7/7 [==============================] - 1s 87ms/step - loss: 0.3433 - accuracy: 0.9541 - val_loss: 0.0157 - val_accuracy: 0.9792\n",
            "Epoch 95/100\n",
            "7/7 [==============================] - ETA: 0s - loss: 0.1496 - accuracy: 0.9908WARNING:tensorflow:Early stopping conditioned on metric `val_acc` which is not available. Available metrics are: loss,accuracy,val_loss,val_accuracy\n",
            "7/7 [==============================] - 1s 85ms/step - loss: 0.1496 - accuracy: 0.9908 - val_loss: 0.0033 - val_accuracy: 1.0000\n",
            "Epoch 96/100\n",
            "7/7 [==============================] - ETA: 0s - loss: 0.1493 - accuracy: 0.9908WARNING:tensorflow:Early stopping conditioned on metric `val_acc` which is not available. Available metrics are: loss,accuracy,val_loss,val_accuracy\n",
            "7/7 [==============================] - 1s 81ms/step - loss: 0.1493 - accuracy: 0.9908 - val_loss: 0.0025 - val_accuracy: 1.0000\n",
            "Epoch 97/100\n",
            "7/7 [==============================] - ETA: 0s - loss: 0.0925 - accuracy: 0.9817WARNING:tensorflow:Early stopping conditioned on metric `val_acc` which is not available. Available metrics are: loss,accuracy,val_loss,val_accuracy\n",
            "7/7 [==============================] - 1s 83ms/step - loss: 0.0925 - accuracy: 0.9817 - val_loss: 0.0250 - val_accuracy: 0.9792\n",
            "Epoch 98/100\n",
            "7/7 [==============================] - ETA: 0s - loss: 0.1677 - accuracy: 0.9725WARNING:tensorflow:Early stopping conditioned on metric `val_acc` which is not available. Available metrics are: loss,accuracy,val_loss,val_accuracy\n",
            "7/7 [==============================] - 0s 71ms/step - loss: 0.1677 - accuracy: 0.9725 - val_loss: 0.0291 - val_accuracy: 0.9792\n",
            "Epoch 99/100\n",
            "7/7 [==============================] - ETA: 0s - loss: 0.1587 - accuracy: 0.9821WARNING:tensorflow:Early stopping conditioned on metric `val_acc` which is not available. Available metrics are: loss,accuracy,val_loss,val_accuracy\n",
            "7/7 [==============================] - 1s 80ms/step - loss: 0.1587 - accuracy: 0.9821 - val_loss: 0.0175 - val_accuracy: 0.9792\n",
            "Epoch 100/100\n",
            "6/7 [========================>.....] - ETA: 0s - loss: 0.7076 - accuracy: 0.9301WARNING:tensorflow:Early stopping conditioned on metric `val_acc` which is not available. Available metrics are: loss,accuracy,val_loss,val_accuracy\n",
            "7/7 [==============================] - 1s 83ms/step - loss: 0.6109 - accuracy: 0.9358 - val_loss: 0.0303 - val_accuracy: 0.9792\n"
          ],
          "name": "stdout"
        }
      ]
    },
    {
      "cell_type": "code",
      "metadata": {
        "id": "eN9OYzChGabK",
        "outputId": "084ae352-0a07-40a2-a6f7-9721519bd826",
        "colab": {
          "base_uri": "https://localhost:8080/",
          "height": 312
        }
      },
      "source": [
        "import matplotlib.pyplot as plt\n",
        "\n",
        "plt.plot(history.history['accuracy'])\n",
        "plt.plot(history.history['val_accuracy'])\n",
        "plt.title('model accuracy')\n",
        "plt.ylabel('accuracy')\n",
        "plt.xlabel('epoch')\n",
        "plt.legend(['train', 'test'], loc='upper left')"
      ],
      "execution_count": 21,
      "outputs": [
        {
          "output_type": "execute_result",
          "data": {
            "text/plain": [
              "<matplotlib.legend.Legend at 0x7f0e37502b38>"
            ]
          },
          "metadata": {
            "tags": []
          },
          "execution_count": 21
        },
        {
          "output_type": "display_data",
          "data": {
            "image/png": "[encoded data removed]",
            "text/plain": [
              "<Figure size 432x288 with 1 Axes>"
            ]
          },
          "metadata": {
            "tags": [],
            "needs_background": "light"
          }
        }
      ]
    },
    {
      "cell_type": "code",
      "metadata": {
        "id": "aiVCqJKqWukn"
      },
      "source": [
        "def plot_confusion_matrix(cm, classes,\n",
        "                          normalize=False,\n",
        "                          title='Confusion matrix',\n",
        "                          cmap=plt.cm.Blues):\n",
        "    \"\"\"\n",
        "    This function prints and plots the confusion matrix.\n",
        "    Normalization can be applied by setting `normalize=True`.\n",
        "    \"\"\"\n",
        "    plt.figure(figsize = (6,6))\n",
        "    plt.imshow(cm, interpolation='nearest', cmap=cmap)\n",
        "    plt.title(title)\n",
        "    plt.colorbar()\n",
        "    tick_marks = np.arange(len(classes))\n",
        "    plt.xticks(tick_marks, classes, rotation=90)\n",
        "    plt.yticks(tick_marks, classes)\n",
        "    if normalize:\n",
        "        cm = cm.astype('float') / cm.sum(axis=1)[:, np.newaxis]\n",
        "\n",
        "    thresh = cm.max() / 2.\n",
        "    cm = np.round(cm,2)\n",
        "    for i, j in itertools.product(range(cm.shape[0]), range(cm.shape[1])):\n",
        "        plt.text(j, i, cm[i, j],\n",
        "                 horizontalalignment=\"center\",\n",
        "                 color=\"white\" if cm[i, j] > thresh else \"black\")\n",
        "    plt.tight_layout()\n",
        "    plt.ylabel('True label')\n",
        "    plt.xlabel('Predicted label')\n",
        "    plt.show()"
      ],
      "execution_count": 22,
      "outputs": []
    },
    {
      "cell_type": "code",
      "metadata": {
        "id": "PkgBDGM7J7Jq",
        "outputId": "b3243676-18bc-46a0-b7a9-fdbcd0823219",
        "colab": {
          "base_uri": "https://localhost:8080/",
          "height": 34
        }
      },
      "source": [
        "# validate on val set\n",
        "predictions = model.predict(X_val_prep)\n",
        "predictions = [1 if x>0.5 else 0 for x in predictions]\n",
        "\n",
        "accuracy = accuracy_score(y_val, predictions)\n",
        "print('Val Accuracy = %.2f' % accuracy)"
      ],
      "execution_count": 23,
      "outputs": [
        {
          "output_type": "stream",
          "text": [
            "Val Accuracy = 0.84\n"
          ],
          "name": "stdout"
        }
      ]
    },
    {
      "cell_type": "code",
      "metadata": {
        "id": "MGYhtndgWlpv",
        "outputId": "b04de2c2-e3a0-471c-97e4-8ddd1a1ffdeb",
        "colab": {
          "base_uri": "https://localhost:8080/",
          "height": 434
        }
      },
      "source": [
        "confusion_mtx = confusion_matrix(y_val, predictions) \n",
        "cm = plot_confusion_matrix(confusion_mtx, classes = list(labels.items()), normalize=False)"
      ],
      "execution_count": 28,
      "outputs": [
        {
          "output_type": "display_data",
          "data": {
            "image/png": "[encoded data removed]",
            "text/plain": [
              "<Figure size 432x432 with 2 Axes>"
            ]
          },
          "metadata": {
            "tags": [],
            "needs_background": "light"
          }
        }
      ]
    },
    {
      "cell_type": "code",
      "metadata": {
        "id": "WK3exYBgW6eh",
        "outputId": "e9a833d6-b925-47c1-8047-79f3b36a0056",
        "colab": {
          "base_uri": "https://localhost:8080/",
          "height": 34
        }
      },
      "source": [
        "len(predictions)"
      ],
      "execution_count": 30,
      "outputs": [
        {
          "output_type": "execute_result",
          "data": {
            "text/plain": [
              "125"
            ]
          },
          "metadata": {
            "tags": []
          },
          "execution_count": 30
        }
      ]
    },
    {
      "cell_type": "code",
      "metadata": {
        "id": "5f2bTgn1rUno",
        "outputId": "4f6ec1b5-ceff-4b66-92c1-7d29598174c1",
        "colab": {
          "base_uri": "https://localhost:8080/",
          "height": 1000
        }
      },
      "source": [
        "predictions"
      ],
      "execution_count": 31,
      "outputs": [
        {
          "output_type": "execute_result",
          "data": {
            "text/plain": [
              "[1,\n",
              " 0,\n",
              " 1,\n",
              " 0,\n",
              " 0,\n",
              " 0,\n",
              " 0,\n",
              " 1,\n",
              " 0,\n",
              " 0,\n",
              " 1,\n",
              " 1,\n",
              " 1,\n",
              " 0,\n",
              " 0,\n",
              " 0,\n",
              " 1,\n",
              " 0,\n",
              " 1,\n",
              " 0,\n",
              " 1,\n",
              " 0,\n",
              " 0,\n",
              " 1,\n",
              " 0,\n",
              " 0,\n",
              " 0,\n",
              " 0,\n",
              " 0,\n",
              " 0,\n",
              " 1,\n",
              " 1,\n",
              " 1,\n",
              " 0,\n",
              " 0,\n",
              " 0,\n",
              " 1,\n",
              " 1,\n",
              " 1,\n",
              " 1,\n",
              " 1,\n",
              " 1,\n",
              " 1,\n",
              " 1,\n",
              " 0,\n",
              " 1,\n",
              " 1,\n",
              " 1,\n",
              " 1,\n",
              " 1,\n",
              " 1,\n",
              " 1,\n",
              " 1,\n",
              " 1,\n",
              " 1,\n",
              " 1,\n",
              " 1,\n",
              " 1,\n",
              " 1,\n",
              " 1,\n",
              " 1,\n",
              " 1,\n",
              " 1,\n",
              " 1,\n",
              " 1,\n",
              " 1,\n",
              " 1,\n",
              " 1,\n",
              " 1,\n",
              " 1,\n",
              " 1,\n",
              " 1,\n",
              " 1,\n",
              " 1,\n",
              " 1,\n",
              " 1,\n",
              " 1,\n",
              " 1,\n",
              " 1,\n",
              " 1,\n",
              " 1,\n",
              " 1,\n",
              " 1,\n",
              " 0,\n",
              " 1,\n",
              " 1,\n",
              " 1,\n",
              " 0,\n",
              " 1,\n",
              " 1,\n",
              " 1,\n",
              " 1,\n",
              " 1,\n",
              " 0,\n",
              " 1,\n",
              " 0,\n",
              " 1,\n",
              " 1,\n",
              " 1,\n",
              " 1,\n",
              " 1,\n",
              " 1,\n",
              " 1,\n",
              " 1,\n",
              " 1,\n",
              " 1,\n",
              " 1,\n",
              " 1,\n",
              " 1,\n",
              " 1,\n",
              " 1,\n",
              " 1,\n",
              " 1,\n",
              " 1,\n",
              " 1,\n",
              " 1,\n",
              " 1,\n",
              " 1,\n",
              " 1,\n",
              " 1,\n",
              " 1,\n",
              " 1,\n",
              " 1,\n",
              " 1,\n",
              " 0]"
            ]
          },
          "metadata": {
            "tags": []
          },
          "execution_count": 31
        }
      ]
    },
    {
      "cell_type": "code",
      "metadata": {
        "id": "T76O1f6nrxYR"
      },
      "source": [
        ""
      ],
      "execution_count": null,
      "outputs": []
    }
  ]
}